{
  "nbformat": 4,
  "nbformat_minor": 0,
  "metadata": {
    "colab": {
      "provenance": [],
      "include_colab_link": true
    },
    "kernelspec": {
      "name": "python3",
      "display_name": "Python 3"
    },
    "language_info": {
      "name": "python"
    }
  },
  "cells": [
    {
      "cell_type": "markdown",
      "metadata": {
        "id": "view-in-github",
        "colab_type": "text"
      },
      "source": [
        "<a href=\"https://colab.research.google.com/github/Pau4est/Where-is-the-math-in-Tennis-Rackets-by-Paulina-Fuentes/blob/main/Tennis_Racket.ipynb\" target=\"_parent\"><img src=\"https://colab.research.google.com/assets/colab-badge.svg\" alt=\"Open In Colab\"/></a>"
      ]
    },
    {
      "cell_type": "code",
      "source": [
        "import pandas as pd\n",
        "import numpy as np\n",
        "\n",
        "# assumptions\n",
        "m_b = 0.058       # ball mass according to international regulations (kg)\n",
        "v0 = -30          # initial velocity (m/s) towards the string\n",
        "y0 = 0            # initial position of the ball (impact moment without deformation)\n",
        "y_j = 0           # racket string in equilibrium position\n",
        "# for this work the stiffness will be proportional to the tension. Materia, diameter and longitude will be ignore.\n",
        "\n"
      ],
      "metadata": {
        "id": "400i1FNxcJ0U"
      },
      "execution_count": 1,
      "outputs": []
    },
    {
      "cell_type": "code",
      "source": [
        "# time\n",
        "time = np.linspace(0, 0.01, 1000)\n",
        "dt = time[1] - time[0]\n",
        "\n"
      ],
      "metadata": {
        "id": "4hZ5ygVP-LkT"
      },
      "execution_count": 2,
      "outputs": []
    },
    {
      "cell_type": "code",
      "source": [
        "np.random.seed(16)\n",
        "\n",
        "data = {'Tension (kg)': np.random.uniform(20, 30, 1000),\n",
        "    'Damping (Ns/m)': np.random.uniform(5, 15, 1000)}"
      ],
      "metadata": {
        "id": "3Opf5jo3-OB7"
      },
      "execution_count": 3,
      "outputs": []
    },
    {
      "cell_type": "code",
      "source": [
        "\n",
        "df = pd.DataFrame(data)\n",
        "\n",
        "# it is propose a spring stiffness value proportional to tension\n",
        "df['Stiffness (N/m)'] = df['Tension (kg)'] * 20  # simplified assumption\n",
        "\n"
      ],
      "metadata": {
        "id": "W7uykHsmo86j"
      },
      "execution_count": 4,
      "outputs": []
    },
    {
      "cell_type": "code",
      "source": [
        "# calculate max deformation\n",
        "def simulate(y0, v0, k_b, c_b):\n",
        "    y = y0\n",
        "    v = v0\n",
        "    min_y = 0\n",
        "    for _ in time:\n",
        "        a = (-c_b * (v - 0) - k_b * (y - y_j)) / m_b #here we introduce out eq 1\n",
        "        v += a * dt\n",
        "        y += v * dt\n",
        "        if y < min_y:\n",
        "            min_y = y\n",
        "    return min_y\n",
        "\n"
      ],
      "metadata": {
        "id": "8VDHr86Q-TrA"
      },
      "execution_count": 5,
      "outputs": []
    },
    {
      "cell_type": "code",
      "source": [
        "# simulations\n",
        "max_deformation = []\n",
        "for _, row in df.iterrows():\n",
        "    max_disp = simulate(y0, v0, row['Stiffness (N/m)'], row['Damping (Ns/m)'])\n",
        "    max_deformation.append(max_disp)\n",
        "\n"
      ],
      "metadata": {
        "id": "MULFlGjk-V0X"
      },
      "execution_count": 6,
      "outputs": []
    },
    {
      "cell_type": "code",
      "source": [
        "df['Max deformation (cm)'] = max_deformation\n",
        "\n",
        "# Organize based on low deformation, which gives more control, and damping, which garantees comfort\n",
        "df['Score'] = -df['Max deformation (cm)'] + 0.01 * df['Damping (Ns/m)']\n",
        "\n"
      ],
      "metadata": {
        "id": "DQ1vkGtW-lJk"
      },
      "execution_count": 7,
      "outputs": []
    },
    {
      "cell_type": "code",
      "source": [
        "# Pick best 5 results\n",
        "top_configs = df.sort_values(by='Score', ascending=False).head(5)\n",
        "print(\"Best string characteristics for better control and with less vibration:\")\n",
        "print(top_configs[['Tension (kg)', 'Damping (Ns/m)', 'Max deformation (cm)']])\n"
      ],
      "metadata": {
        "colab": {
          "base_uri": "https://localhost:8080/"
        },
        "id": "bCcs7CFp-nP5",
        "outputId": "6a662997-e356-4a23-e02f-b36dac457f5d"
      },
      "execution_count": 8,
      "outputs": [
        {
          "output_type": "stream",
          "name": "stdout",
          "text": [
            "Best string characteristics for better control and with less vibration:\n",
            "     Tension (kg)  Damping (Ns/m)  Max deformation (cm)\n",
            "3       20.456020       14.939019             -0.096315\n",
            "829     20.083721       14.871284             -0.096848\n",
            "241     20.421445       14.884701             -0.096603\n",
            "20      21.208788       14.965937             -0.095789\n",
            "740     21.879167       14.955381             -0.095494\n"
          ]
        }
      ]
    }
  ]
}